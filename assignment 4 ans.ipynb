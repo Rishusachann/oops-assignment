{
  "nbformat": 4,
  "nbformat_minor": 0,
  "metadata": {
    "colab": {
      "provenance": []
    },
    "kernelspec": {
      "name": "python3",
      "display_name": "Python 3"
    },
    "language_info": {
      "name": "python"
    }
  },
  "cells": [
    {
      "cell_type": "code",
      "execution_count": null,
      "metadata": {
        "id": "QbSpKWKgR6CX"
      },
      "outputs": [],
      "source": []
    },
    {
      "cell_type": "markdown",
      "source": [
        "                **THEORICTCAL QUESTION**\n",
        "                \n",
        "\n",
        "1. What is Object-Oriented Programming (OOP)?\n",
        "\n",
        " ANS: OOP is a programming paradigm based on objects that bundle data and behavior. It promotes modular, reusable, and organized code by modeling real-world entities.\n",
        "\n",
        "2. What is a class in OOP?\n",
        "\n",
        " ANS: A class is a blueprint for creating objects. It defines the attributes and methods that its instances will possess.\n",
        "\n",
        "3. What is an object in OOP?\n",
        "\n",
        "\n",
        " ANS: An object is an instance of a class, representing a specific entity with its own data (attributes) and behavior (methods).\n",
        "\n",
        "4. What is the difference between abstraction and encapsulation?\n",
        "\n",
        " ANS:Abstraction hides implementation details and shows only the essential features.\n",
        "\n",
        " Encapsulation restricts direct access to an object’s internal state, exposing it via methods.\n",
        "\n",
        "5. What are dunder methods in Python?\n",
        "\n",
        " ANS: Dunder (double underscore) methods like __init__, __str__, and __call__ are special Python methods that provide certain functionalities to classes.\n",
        "\n",
        "6. Explain the concept of inheritance in OOP\n",
        "\n",
        " ANS: Inheritance lets a class (child) acquire attributes and methods from another class (parent), promoting code reuse and hierarchical structures.\n",
        "\n",
        "7. What is polymorphism in OOP?\n",
        "\n",
        " ANS: Polymorphism allows different classes to be treated as instances of the same parent class through a shared interface, with behavior determined by the object's class.\n",
        "\n",
        "8. How is encapsulation achieved in Python?\n",
        "\n",
        " ANS:Encapsulation is achieved using:\n",
        "\n",
        " Private members (prefix with _ or __)\n",
        "\n",
        " Getters, setters, and property decorators to control attribute access.\n",
        "\n",
        "9. What is a constructor in Python?\n",
        "\n",
        " ANS: A constructor is the __init__() method, automatically called when a new object is created to initialize its attributes.\n",
        "\n",
        "10. What are class and static methods in Python?\n",
        "\n",
        " ANS:Class method (@classmethod): Takes cls as the first parameter, can modify class state.\n",
        "\n",
        " Static method (@staticmethod): No self or cls, behaves like a regular function inside a class.\n",
        "\n",
        "11. What is method overloading in Python?\n",
        "\n",
        " ANS: Python doesn’t support traditional method overloading. Similar effects are achieved with default arguments or *args and **kwargs.\n",
        "\n",
        "12. What is method overriding in OOP?\n",
        "\n",
        " ANS: Method overriding occurs when a subclass provides a specific implementation for a method already defined in its parent class.\n",
        "\n",
        "13. What is a property decorator in Python?\n",
        "\n",
        " ANS: The @property decorator makes a method act like a read-only attribute, allowing controlled access to private variables.\n",
        "\n",
        "14. Why is polymorphism important in OOP?\n",
        "\n",
        " ANS: It promotes flexibility and maintainability, letting the same interface work with different underlying data types or classes.\n",
        "\n",
        "15. What is an abstract class in Python?\n",
        "\n",
        " ANS: An abstract class (from abc module) can’t be instantiated directly and must be subclassed, requiring its abstract methods to be implemented.\n",
        "\n",
        "16. What are the advantages of OOP?\n",
        "\n",
        " ANS:Code reuse via inheritance\n",
        "\n",
        " Better organization via encapsulation\n",
        "\n",
        " Easier maintenance\n",
        "\n",
        " Real-world modeling\n",
        "\n",
        " Flexibility through polymorphism\n",
        "\n",
        "17. What is the difference between a class variable and an instance variable?\n",
        "\n",
        " ANS:Class variable: Shared by all instances.\n",
        "\n",
        " Instance variable: Unique to each object.\n",
        "\n",
        "18. What is multiple inheritance in Python?\n",
        "\n",
        " ANS: Multiple inheritance allows a class to inherit from more than one parent class, combining multiple behaviors.\n",
        "\n",
        "19. Explain the purpose of __str__ and __repr__ methods in Python\n",
        "\n",
        " ANS:__str__: Returns a readable, user-friendly string.\n",
        "\n",
        " __repr__: Returns a detailed, developer-friendly string.\n",
        "\n",
        "20. What is the significance of the super() function in Python?\n",
        "\n",
        " ANS: super() lets you call a method from a parent class inside a child class, useful for extending or customizing inherited behavior.\n",
        "\n",
        "21. What is the significance of the __del__ method in Python?\n",
        " ANS: The __del__ method is called when an object is destroyed, useful for resource cleanup like closing files or network connections.\n",
        "\n",
        "22. What is the difference between @staticmethod and @classmethod in Python?\n",
        "\n",
        " ANS:@staticmethod: No self or cls, acts like a regular function inside a class.\n",
        "\n",
        " @classmethod: Takes cls as the first parameter, can modify class-level attributes.\n",
        "\n",
        "23. How does polymorphism work in Python with inheritance?\n",
        "\n",
        " ANS: Child classes can override parent class methods, and you can use the same method name on different objects, executing the version specific to the object's class.\n",
        "\n",
        "24. What is method chaining in Python OOP?\n",
        "\n",
        " ANS: Method chaining lets you call multiple methods on the same object in one line by having each method return self.\n",
        "\n",
        " Example:\n",
        "\n",
        " python\n",
        " Copy\n",
        " Edit\n",
        " obj.method1().method2()\n",
        "\n",
        "25. What is the purpose of the __call__ method in Python? (1-3 lines)\n",
        "\n",
        " ANS: The __call__ method allows an object to be called like a function. When you call an instance, Python runs its __call__() method.\n",
        "\n"
      ],
      "metadata": {
        "id": "X_0kw4D_TTwQ"
      }
    },
    {
      "cell_type": "markdown",
      "source": [
        "                     **PRACTICAL QUESTION**"
      ],
      "metadata": {
        "id": "HEmjYC0-R8TZ"
      }
    },
    {
      "cell_type": "code",
      "source": [
        "#1 Create a parent class Animal with a method speak() that prints a generic message. Create a child class Dog that overrides the speak() method to print \"Bark!\".\n",
        "class Animal:\n",
        "    def speak(self):\n",
        "        print(\"Some generic animal sound\")\n",
        "\n",
        "class Dog(Animal):\n",
        "    def speak(self):\n",
        "        print(\"Bark!\")\n",
        "\n",
        "dog = Dog()\n",
        "dog.speak()\n"
      ],
      "metadata": {
        "colab": {
          "base_uri": "https://localhost:8080/"
        },
        "id": "8fAai8X1UYab",
        "outputId": "8fbd9482-cce2-4d36-a4bb-c1446df8bd5b"
      },
      "execution_count": 1,
      "outputs": [
        {
          "output_type": "stream",
          "name": "stdout",
          "text": [
            "Bark!\n"
          ]
        }
      ]
    },
    {
      "cell_type": "code",
      "source": [
        "#2 Write a program to create an abstract class Shape with a method area(). Derive classes Circle and Rectangle from it and implement the area() method in both.\n",
        "from abc import ABC, abstractmethod\n",
        "\n",
        "class Shape(ABC):\n",
        "    @abstractmethod\n",
        "    def area(self):\n",
        "        pass\n",
        "\n",
        "class Circle(Shape):\n",
        "    def __init__(self, radius):\n",
        "        self.radius = radius\n",
        "\n",
        "    def area(self):\n",
        "        return 3.14 * self.radius * self.radius\n",
        "\n",
        "class Rectangle(Shape):\n",
        "    def __init__(self, length, width):\n",
        "        self.length = length\n",
        "        self.width = width\n",
        "\n",
        "    def area(self):\n",
        "        return self.length * self.width\n",
        "\n",
        "circle = Circle(5)\n",
        "rectangle = Rectangle(4, 6)\n",
        "print(circle.area())\n",
        "print(rectangle.area())\n"
      ],
      "metadata": {
        "colab": {
          "base_uri": "https://localhost:8080/"
        },
        "id": "ZPJTOt_2VUMj",
        "outputId": "e0b34082-403e-44cc-cb21-382666c9527f"
      },
      "execution_count": 2,
      "outputs": [
        {
          "output_type": "stream",
          "name": "stdout",
          "text": [
            "78.5\n",
            "24\n"
          ]
        }
      ]
    },
    {
      "cell_type": "code",
      "source": [
        "#3 Implement a multi-level inheritance scenario where a class Vehicle has an attribute type. Derive a class Car and further derive a class ElectricCar that adds a battery attribute.\n",
        "class Vehicle:\n",
        "    def __init__(self, vehicle_type):\n",
        "        self.type = vehicle_type\n",
        "\n",
        "class Car(Vehicle):\n",
        "    def __init__(self, vehicle_type, brand):\n",
        "        super().__init__(vehicle_type)\n",
        "        self.brand = brand\n",
        "\n",
        "class ElectricCar(Car):\n",
        "    def __init__(self, vehicle_type, brand, battery):\n",
        "        super().__init__(vehicle_type, brand)\n",
        "        self.battery = battery\n",
        "\n",
        "tesla = ElectricCar(\"Electric\", \"Tesla\", \"100 kWh\")\n",
        "print(tesla.type, tesla.brand, tesla.battery)\n"
      ],
      "metadata": {
        "colab": {
          "base_uri": "https://localhost:8080/"
        },
        "id": "yAY4hS-zVZ86",
        "outputId": "84196ea7-7187-4e67-dacb-1c925b04f87b"
      },
      "execution_count": 3,
      "outputs": [
        {
          "output_type": "stream",
          "name": "stdout",
          "text": [
            "Electric Tesla 100 kWh\n"
          ]
        }
      ]
    },
    {
      "cell_type": "code",
      "source": [
        "#4 Demonstrate polymorphism by creating a base class Bird with a method fly(). Create two derived classes Sparrow and Penguin that override the fly() method.\n",
        "class Bird:\n",
        "    def fly(self):\n",
        "        print(\"Bird is flying\")\n",
        "\n",
        "class Sparrow(Bird):\n",
        "    def fly(self):\n",
        "        print(\"Sparrow can fly high\")\n",
        "\n",
        "class Penguin(Bird):\n",
        "    def fly(self):\n",
        "        print(\"Penguins can't fly\")\n",
        "\n",
        "birds = [Sparrow(), Penguin()]\n",
        "for bird in birds:\n",
        "    bird.fly()\n"
      ],
      "metadata": {
        "colab": {
          "base_uri": "https://localhost:8080/"
        },
        "id": "GAmCrn4rVpqr",
        "outputId": "894fd364-b221-4d83-e7ed-b547f5f01e05"
      },
      "execution_count": 4,
      "outputs": [
        {
          "output_type": "stream",
          "name": "stdout",
          "text": [
            "Sparrow can fly high\n",
            "Penguins can't fly\n"
          ]
        }
      ]
    },
    {
      "cell_type": "code",
      "source": [
        "#5 Write a program to demonstrate encapsulation by creating a class BankAccount with private attributes balance and methods to deposit, withdraw, and check balance.\n",
        "class BankAccount:\n",
        "    def __init__(self):\n",
        "        self.__balance = 0\n",
        "\n",
        "    def deposit(self, amount):\n",
        "        self.__balance += amount\n",
        "\n",
        "    def withdraw(self, amount):\n",
        "        if amount <= self.__balance:\n",
        "            self.__balance -= amount\n",
        "        else:\n",
        "            print(\"Insufficient funds\")\n",
        "\n",
        "    def check_balance(self):\n",
        "        return self.__balance\n",
        "\n",
        "account = BankAccount()\n",
        "account.deposit(500)\n",
        "account.withdraw(100)\n",
        "print(account.check_balance())\n"
      ],
      "metadata": {
        "colab": {
          "base_uri": "https://localhost:8080/"
        },
        "id": "nFDs7-AOVvDv",
        "outputId": "30938eb3-eb89-4692-ea80-7ec8fafd3deb"
      },
      "execution_count": 5,
      "outputs": [
        {
          "output_type": "stream",
          "name": "stdout",
          "text": [
            "400\n"
          ]
        }
      ]
    },
    {
      "cell_type": "code",
      "source": [
        "#6 Demonstrate runtime polymorphism using a method play() in a base class Instrument. Derive classes Guitar and Piano that implement their own version of play().\n",
        "class Instrument:\n",
        "    def play(self):\n",
        "        print(\"Instrument is playing\")\n",
        "\n",
        "class Guitar(Instrument):\n",
        "    def play(self):\n",
        "        print(\"Guitar strumming\")\n",
        "\n",
        "class Piano(Instrument):\n",
        "    def play(self):\n",
        "        print(\"Piano melody\")\n",
        "\n",
        "instruments = [Guitar(), Piano()]\n",
        "for instrument in instruments:\n",
        "    instrument.play()\n"
      ],
      "metadata": {
        "colab": {
          "base_uri": "https://localhost:8080/"
        },
        "id": "KEuEfQ97V3BS",
        "outputId": "76ad67c3-33ad-4ee9-f7b8-2f164dd9f522"
      },
      "execution_count": 6,
      "outputs": [
        {
          "output_type": "stream",
          "name": "stdout",
          "text": [
            "Guitar strumming\n",
            "Piano melody\n"
          ]
        }
      ]
    },
    {
      "cell_type": "code",
      "source": [
        "#7 Create a class MathOperations with a class method add_numbers() to add two numbers and a static method subtract_numbers() to subtract two numbers.\n",
        "class MathOperations:\n",
        "    @classmethod\n",
        "    def add_numbers(cls, a, b):\n",
        "        return a + b\n",
        "\n",
        "    @staticmethod\n",
        "    def subtract_numbers(a, b):\n",
        "        return a - b\n",
        "\n",
        "print(MathOperations.add_numbers(5, 3))\n",
        "print(MathOperations.subtract_numbers(5, 3))\n"
      ],
      "metadata": {
        "colab": {
          "base_uri": "https://localhost:8080/"
        },
        "id": "to1BpWbvV7s2",
        "outputId": "a86defba-a471-45f1-a6a3-b34959286c7e"
      },
      "execution_count": 7,
      "outputs": [
        {
          "output_type": "stream",
          "name": "stdout",
          "text": [
            "8\n",
            "2\n"
          ]
        }
      ]
    },
    {
      "cell_type": "code",
      "source": [
        "#8 Implement a class Person with a class method to count the total number of persons created.\n",
        "class Person:\n",
        "    count = 0\n",
        "\n",
        "    def __init__(self):\n",
        "        Person.count += 1\n",
        "\n",
        "    @classmethod\n",
        "    def total_persons(cls):\n",
        "        return cls.count\n",
        "\n",
        "p1 = Person()\n",
        "p2 = Person()\n",
        "print(Person.total_persons())\n"
      ],
      "metadata": {
        "colab": {
          "base_uri": "https://localhost:8080/"
        },
        "id": "oNbW-VSnWAK6",
        "outputId": "676b043b-023e-4b92-c198-a37648fad370"
      },
      "execution_count": 8,
      "outputs": [
        {
          "output_type": "stream",
          "name": "stdout",
          "text": [
            "2\n"
          ]
        }
      ]
    },
    {
      "cell_type": "code",
      "source": [
        "#9 Write a class Fraction with attributes numerator and denominator. Override the __str__ method to display the fraction as \"numerator/denominator\".\n",
        "class Fraction:\n",
        "    def __init__(self, numerator, denominator):\n",
        "        self.numerator = numerator\n",
        "        self.denominator = denominator\n",
        "\n",
        "    def __str__(self):\n",
        "        return f\"{self.numerator}/{self.denominator}\"\n",
        "\n",
        "f = Fraction(3, 4)\n",
        "print(f)\n"
      ],
      "metadata": {
        "colab": {
          "base_uri": "https://localhost:8080/"
        },
        "id": "FkfbMxyZWEEo",
        "outputId": "c33a4bae-f573-44db-c068-566bee3e7f4b"
      },
      "execution_count": 9,
      "outputs": [
        {
          "output_type": "stream",
          "name": "stdout",
          "text": [
            "3/4\n"
          ]
        }
      ]
    },
    {
      "cell_type": "code",
      "source": [
        "#10 Demonstrate operator overloading by creating a class Vector and overriding the __add__ method to add two vectors.\n",
        "class Vector:\n",
        "    def __init__(self, x, y):\n",
        "        self.x = x\n",
        "        self.y = y\n",
        "\n",
        "    def __add__(self, other):\n",
        "        return Vector(self.x + other.x, self.y + other.y)\n",
        "\n",
        "    def __str__(self):\n",
        "        return f\"({self.x}, {self.y})\"\n",
        "\n",
        "v1 = Vector(1, 2)\n",
        "v2 = Vector(3, 4)\n",
        "print(v1 + v2)\n"
      ],
      "metadata": {
        "colab": {
          "base_uri": "https://localhost:8080/"
        },
        "id": "mdn4c_jjWJtd",
        "outputId": "085dfee9-b5f5-4793-ba6c-c2213d811185"
      },
      "execution_count": 10,
      "outputs": [
        {
          "output_type": "stream",
          "name": "stdout",
          "text": [
            "(4, 6)\n"
          ]
        }
      ]
    },
    {
      "cell_type": "code",
      "source": [
        "#11 Create a class Person with attributes name and age. Add a method greet() that prints \"Hello, my name is {name} and I am {age} years old.\"\n",
        "class Person:\n",
        "    def __init__(self, name, age):\n",
        "        self.name = name\n",
        "        self.age = age\n",
        "\n",
        "    def greet(self):\n",
        "        print(f\"Hello, my name is {self.name} and I am {self.age} years old.\")\n",
        "\n",
        "p = Person(\"Alice\", 25)\n",
        "p.greet()\n"
      ],
      "metadata": {
        "colab": {
          "base_uri": "https://localhost:8080/"
        },
        "id": "vDitj2zFWPOo",
        "outputId": "d726049a-09dc-4f60-cfb7-6edac3b80ae8"
      },
      "execution_count": 11,
      "outputs": [
        {
          "output_type": "stream",
          "name": "stdout",
          "text": [
            "Hello, my name is Alice and I am 25 years old.\n"
          ]
        }
      ]
    },
    {
      "cell_type": "code",
      "source": [
        "#12 Implement a class Student with attributes name and grades. Create a method average_grade() to compute the average of the grades.\n",
        "class Student:\n",
        "    def __init__(self, name, grades):\n",
        "        self.name = name\n",
        "        self.grades = grades\n",
        "\n",
        "    def average_grade(self):\n",
        "        return sum(self.grades) / len(self.grades)\n",
        "\n",
        "student = Student(\"John\", [85, 90, 78])\n",
        "print(student.average_grade())\n"
      ],
      "metadata": {
        "colab": {
          "base_uri": "https://localhost:8080/"
        },
        "id": "qJex1gC8WpLJ",
        "outputId": "f3bbbed2-3e7d-43ec-b0ae-28bae4a0e30e"
      },
      "execution_count": 12,
      "outputs": [
        {
          "output_type": "stream",
          "name": "stdout",
          "text": [
            "84.33333333333333\n"
          ]
        }
      ]
    },
    {
      "cell_type": "code",
      "source": [
        "#13 Create a class Rectangle with methods set_dimensions() to set the dimensions and area() to calculate the area.\n",
        "class Rectangle:\n",
        "    def set_dimensions(self, length, width):\n",
        "        self.length = length\n",
        "        self.width = width\n",
        "\n",
        "    def area(self):\n",
        "        return self.length * self.width\n",
        "\n",
        "rect = Rectangle()\n",
        "rect.set_dimensions(5, 4)\n",
        "print(rect.area())\n"
      ],
      "metadata": {
        "colab": {
          "base_uri": "https://localhost:8080/"
        },
        "id": "Sxb9gSO_WsX1",
        "outputId": "fd845259-7f0f-424c-960c-fee995766221"
      },
      "execution_count": 13,
      "outputs": [
        {
          "output_type": "stream",
          "name": "stdout",
          "text": [
            "20\n"
          ]
        }
      ]
    },
    {
      "cell_type": "code",
      "source": [
        "#14 Create a class Employee with a method calculate_salary() that computes the salary based on hours worked and hourly rate. Create a derived class Manager that adds a bonus to the salary.\n",
        "class Employee:\n",
        "    def calculate_salary(self, hours_worked, hourly_rate):\n",
        "        return hours_worked * hourly_rate\n",
        "\n",
        "class Manager(Employee):\n",
        "    def calculate_salary(self, hours_worked, hourly_rate, bonus):\n",
        "        base_salary = super().calculate_salary(hours_worked, hourly_rate)\n",
        "        return base_salary + bonus\n",
        "\n",
        "emp = Employee()\n",
        "print(emp.calculate_salary(40, 20))\n",
        "\n",
        "mgr = Manager()\n",
        "print(mgr.calculate_salary(40, 20, 500))\n"
      ],
      "metadata": {
        "colab": {
          "base_uri": "https://localhost:8080/"
        },
        "id": "HYsif3woWxW4",
        "outputId": "bc4a25c9-ce49-4178-cbab-ee577daf6627"
      },
      "execution_count": 14,
      "outputs": [
        {
          "output_type": "stream",
          "name": "stdout",
          "text": [
            "800\n",
            "1300\n"
          ]
        }
      ]
    },
    {
      "cell_type": "code",
      "source": [
        "#15 Create a class Product with attributes name, price, and quantity. Implement a method total_price() that calculates the total price of the product.\n",
        "class Product:\n",
        "    def __init__(self, name, price, quantity):\n",
        "        self.name = name\n",
        "        self.price = price\n",
        "        self.quantity = quantity\n",
        "\n",
        "    def total_price(self):\n",
        "        return self.price * self.quantity\n",
        "\n",
        "product = Product(\"Laptop\", 50000, 2)\n",
        "print(product.total_price())\n"
      ],
      "metadata": {
        "colab": {
          "base_uri": "https://localhost:8080/"
        },
        "id": "b4syJnbLW4JG",
        "outputId": "31ef887a-e2e6-4d6e-b5ea-6dc52014fb9c"
      },
      "execution_count": 15,
      "outputs": [
        {
          "output_type": "stream",
          "name": "stdout",
          "text": [
            "100000\n"
          ]
        }
      ]
    },
    {
      "cell_type": "code",
      "source": [
        "#16 Create a class Animal with an abstract method sound(). Create two derived classes Cow and Sheep that implement the sound() method.\n",
        "from abc import ABC, abstractmethod\n",
        "\n",
        "class Animal(ABC):\n",
        "    @abstractmethod\n",
        "    def sound(self):\n",
        "        pass\n",
        "\n",
        "class Cow(Animal):\n",
        "    def sound(self):\n",
        "        print(\"Moo\")\n",
        "\n",
        "class Sheep(Animal):\n",
        "    def sound(self):\n",
        "        print(\"Baa\")\n",
        "\n",
        "cow = Cow()\n",
        "cow.sound()\n",
        "\n",
        "sheep = Sheep()\n",
        "sheep.sound()\n"
      ],
      "metadata": {
        "colab": {
          "base_uri": "https://localhost:8080/"
        },
        "id": "Aaj13PQlW8yf",
        "outputId": "193a4c44-2a2d-43b2-824d-a7c436020579"
      },
      "execution_count": 16,
      "outputs": [
        {
          "output_type": "stream",
          "name": "stdout",
          "text": [
            "Moo\n",
            "Baa\n"
          ]
        }
      ]
    },
    {
      "cell_type": "code",
      "source": [
        "#17 Create a class Book with attributes title, author, and year_published. Add a method get_book_info() that returns a formatted string with the book's details.\n",
        "class Book:\n",
        "    def __init__(self, title, author, year_published):\n",
        "        self.title = title\n",
        "        self.author = author\n",
        "        self.year_published = year_published\n",
        "\n",
        "    def get_book_info(self):\n",
        "        return f\"{self.title} by {self.author}, published in {self.year_published}\"\n",
        "\n",
        "book = Book(\"1984\", \"George Orwell\", 1949)\n",
        "print(book.get_book_info())\n"
      ],
      "metadata": {
        "colab": {
          "base_uri": "https://localhost:8080/"
        },
        "id": "yo_ttXRgXBsd",
        "outputId": "34cb2a68-415b-4df0-eccc-013fe9972f94"
      },
      "execution_count": 17,
      "outputs": [
        {
          "output_type": "stream",
          "name": "stdout",
          "text": [
            "1984 by George Orwell, published in 1949\n"
          ]
        }
      ]
    },
    {
      "cell_type": "code",
      "source": [
        "#18 Create a class House with attributes address and price. Create a derived class Mansion that adds an attribute number_of_rooms.\n",
        "class House:\n",
        "    def __init__(self, address, price):\n",
        "        self.address = address\n",
        "        self.price = price\n",
        "\n",
        "class Mansion(House):\n",
        "    def __init__(self, address, price, number_of_rooms):\n",
        "        super().__init__(address, price)\n",
        "        self.number_of_rooms = number_of_rooms\n",
        "\n",
        "mansion = Mansion(\"Beverly Hills\", 5000000, 15)\n",
        "print(mansion.address, mansion.price, mansion.number_of_rooms)\n"
      ],
      "metadata": {
        "colab": {
          "base_uri": "https://localhost:8080/"
        },
        "id": "nlln3UKZXJxj",
        "outputId": "95e04a48-9db7-49d1-c94f-21b0955cc994"
      },
      "execution_count": 18,
      "outputs": [
        {
          "output_type": "stream",
          "name": "stdout",
          "text": [
            "Beverly Hills 5000000 15\n"
          ]
        }
      ]
    }
  ]
}